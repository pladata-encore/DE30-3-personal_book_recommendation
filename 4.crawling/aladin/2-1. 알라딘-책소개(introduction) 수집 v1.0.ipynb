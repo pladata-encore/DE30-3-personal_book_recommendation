{
 "cells": [
  {
   "cell_type": "markdown",
   "id": "59778b3b-6c8f-4492-8682-f4b8a300b48b",
   "metadata": {},
   "source": [
    "# 책소개\n",
    "수집된 a_isbn을 통해 책소개(introduction) 수집(책 당 1개 책소개 수집) \n",
    "- 사용파일: A_information_etc_utf8.csv\n",
    "- 생성파일: A_introductions_utf8.csv"
   ]
  },
  {
   "cell_type": "code",
   "execution_count": 5,
   "id": "10c795a9-28f5-4053-b1e5-32d4be1a81aa",
   "metadata": {},
   "outputs": [],
   "source": [
    "from bs4 import BeautifulSoup\n",
    "from selenium import webdriver\n",
    "import requests\n",
    "import json\n",
    "from selenium import webdriver\n",
    "import csv\n",
    "import time\n",
    "import pandas as pd"
   ]
  },
  {
   "cell_type": "code",
   "execution_count": 6,
   "id": "01367c14-eb11-4aff-afe4-ae11d8d53f4e",
   "metadata": {
    "scrolled": true
   },
   "outputs": [
    {
     "name": "stdout",
     "output_type": "stream",
     "text": [
      "       item_id a_isbn  total_rating\n",
      "660  309951192    NaN           NaN\n",
      "823   56868780    NaN           9.6\n"
     ]
    }
   ],
   "source": [
    "# CSV 파일 경로\n",
    "# 알라딘-총평점-v1.0 작업 이후 A_information_etc 파일로 작업필요\n",
    "file_path = 'A_information_etc_utf8.csv'\n",
    "\n",
    "# pandas를 사용하여 CSV 파일 읽기\n",
    "df = pd.read_csv(file_path, encoding='utf-8')\n",
    "\n",
    "# 'a_isbn' 열의 값들을 중복 없이 리스트로 변환\n",
    "a_isbn_list = df['a_isbn'].unique().tolist()\n",
    "\n",
    "# 'item_id'에서 중복된 행만 필터링\n",
    "duplicated_rows = df[df.duplicated('a_isbn', keep=False)]\n",
    "\n",
    "# 결과 출력\n",
    "if len(duplicated_rows) >= 1:\n",
    "   print(duplicated_rows.sort_values(by='a_isbn'))\n",
    "else:\n",
    "    print('중복된 행이 없습니다')"
   ]
  },
  {
   "cell_type": "code",
   "execution_count": 7,
   "id": "cbf6fd4a-6b36-4fcc-98ab-f5b958ae3ef1",
   "metadata": {},
   "outputs": [
    {
     "data": {
      "text/plain": [
       "1022"
      ]
     },
     "execution_count": 7,
     "metadata": {},
     "output_type": "execute_result"
    }
   ],
   "source": [
    "len(a_isbn_list)"
   ]
  },
  {
   "cell_type": "code",
   "execution_count": 8,
   "id": "d03a0ead-981c-4c24-be79-60b951eaa101",
   "metadata": {},
   "outputs": [],
   "source": [
    "#리스트만들기\n",
    "introductions = []\n",
    "introduction_html_list = []"
   ]
  },
  {
   "cell_type": "code",
   "execution_count": 9,
   "id": "1583d8c2-1cc4-4f64-b935-a07dcde514be",
   "metadata": {
    "scrolled": true
   },
   "outputs": [
    {
     "name": "stdout",
     "output_type": "stream",
     "text": [
      "0 2024.03.19 - 11:17:06 K752730888\n"
     ]
    }
   ],
   "source": [
    "# 요청 헤더\n",
    "headers = {\n",
    "    \"Accept\": \"*/*\",\n",
    "    \"Accept-Encoding\": \"gzip, deflate, br, zstd\",\n",
    "    \"Accept-Language\": \"ko-KR,ko;q=0.9,en-US;q=0.8,en;q=0.7\",\n",
    "    \"Connection\": \"keep-alive\",\n",
    "    \"Cookie\": \"CheckSameSite4=IsValidSameSiteSet; AladdinUser=UID=1238288727&SID=MZhgpmxTJ5jmKnv24AFjAg%3d%3d; AladdinUS=uz%2bg8Meq6f3tucYt2eBk%2fw%3d%3d&USA=0; _gcl_au=1.1.80453147.1710319532; _BS_GUUID=3jguseZr9W4O9focZdu9DZBb6ksnLWiPfyjHNi8W; _ga=GA1.1.955527986.1710319532; _fwb=191BLSAqxrjXG5K4lL8oJvI.1710319532043; _gcl_aw=GCL.1710380746.Cj0KCQjwncWvBhD_ARIsAEb2HW-2yZmyXOBJ6v__Us_5bPB4TuKw6AbwFUUqqoYHNCsME4FQLGoWATEaAg4qEALw_wcB; _TRK_AUIDA_13987=4dd981c7ce0f287249c7f241078780ea:6; _TRK_ASID_13987=1d0ae7e7a80900d4bd8531578b325f52; refererURL=https://www.aladin.co.kr/shop/wproduct.aspx?ItemId=318773745; wcs_bt=s_1c519d64863a:1710404972; _ga_VKYKBC0ZHH=GS1.1.1710402612.6.1.1710404972.53.0.0\",\n",
    "    \"Host\": \"www.aladin.co.kr\",\n",
    "    \"Referer\": \"https://www.aladin.co.kr/shop/wproduct.aspx?ItemId=318773745\",\n",
    "    \"Sec-Fetch-Dest\": \"empty\",\n",
    "    \"Sec-Fetch-Mode\": \"cors\",\n",
    "    \"Sec-Fetch-Site\": \"same-origin\",\n",
    "    \"User-Agent\": \"Mozilla/5.0 (Windows NT 10.0; Win64; x64) AppleWebKit/537.36 (KHTML, like Gecko) Chrome/122.0.0.0 Safari/537.36\",\n",
    "    \"X-Requested-With\": \"XMLHttpRequest\",\n",
    "    \"sec-ch-ua\": \"\\\"Chromium\\\";v=\\\"122\\\", \\\"Not(A:Brand\\\";v=\\\"24\\\", \\\"Google Chrome\\\";v=\\\"122\\\"\",\n",
    "    \"sec-ch-ua-mobile\": \"?0\",\n",
    "    \"sec-ch-ua-platform\": \"\\\"Windows\\\"\"}\n",
    "\n",
    "count = 0\n",
    "for aladinISBN in a_isbn_list[:1]:\n",
    "    try:\n",
    "        introduction = None\n",
    "        url = f\"https://www.aladin.co.kr/shop/product/getContents.aspx?ISBN={aladinISBN}&name=Introduce&type=0&date=1\"\n",
    "        introduction_response = requests.get(url, headers=headers)\n",
    "        #저장\n",
    "        introduction_soup = BeautifulSoup(introduction_response.text, 'html.parser')\n",
    "        # 응답 확인    \n",
    "        # print(response.text)  # 응답 본문 확인    \n",
    "        introduction = introduction_soup.find(\"div\", class_=\"Ere_prod_mconts_R\").text.strip()\n",
    "        introduction_dict = {\n",
    "            'a_isbn': aladinISBN,\n",
    "            'introduction': introduction\n",
    "        }   \n",
    "        # 딕셔너리를 리스트에 추가\n",
    "        introductions.append(introduction_dict)\n",
    "        introduction_html = {\n",
    "        'a_isbn': aladinISBN,\n",
    "        'html': introduction_soup\n",
    "        }\n",
    "        introduction_html_list.append(introduction_html)\n",
    "    except Exception as e:\n",
    "        introduction_dict = {\n",
    "            'a_isbn': aladinISBN,\n",
    "            'introduction': introduction\n",
    "        }  \n",
    "        introductions.append(introduction_dict)\n",
    "        introduction_html = {\n",
    "                'a_isbn': aladinISBN,\n",
    "                'html': None\n",
    "            }\n",
    "        introduction_html_list.append(reviews_html)\n",
    "        continue\n",
    "    print(count, time.strftime('%Y.%m.%d - %H:%M:%S'), aladinISBN)\n",
    "    count += 1\n",
    "\n"
   ]
  },
  {
   "cell_type": "code",
   "execution_count": 16,
   "id": "86d348f6-81ff-46ab-86df-e446efb8692a",
   "metadata": {},
   "outputs": [],
   "source": [
    "field_names = list(introductions[1].keys())\n",
    "\n",
    "# 'encoding' 인자를 'utf-8'로 설정\n",
    "with open('A_introductions_utf8.csv', 'w', newline='', encoding='utf-8') as csvfile:\n",
    "    writer = csv.DictWriter(csvfile, fieldnames=fields)\n",
    "    writer.writeheader()\n",
    "    writer.writerows(introductions)"
   ]
  },
  {
   "cell_type": "code",
   "execution_count": 13,
   "id": "9fd29706-ccc8-4d05-8bbb-7141102c8f93",
   "metadata": {},
   "outputs": [
    {
     "data": {
      "text/plain": [
       "201"
      ]
     },
     "execution_count": 13,
     "metadata": {},
     "output_type": "execute_result"
    }
   ],
   "source": [
    "len(introductions)"
   ]
  },
  {
   "cell_type": "code",
   "execution_count": 15,
   "id": "ded938e0-ad99-4f25-b0d1-d516a33953ac",
   "metadata": {},
   "outputs": [],
   "source": [
    "#csv로 저장\n",
    "fields = list(introduction_html_list[0].keys())\n",
    "\n",
    "# 'encoding' 인자를 'utf-8'로 설정\n",
    "with open('A_introduction_html_list_utf8.csv', 'w', newline='', encoding='utf-8') as csvfile:\n",
    "    writer = csv.DictWriter(csvfile, fieldnames=fields)\n",
    "    writer.writeheader()\n",
    "    writer.writerows(introduction_html_list)"
   ]
  },
  {
   "cell_type": "code",
   "execution_count": null,
   "id": "d62b8026-8da8-4453-8229-0125cf38bc47",
   "metadata": {},
   "outputs": [],
   "source": []
  }
 ],
 "metadata": {
  "kernelspec": {
   "display_name": "Python 3 (ipykernel)",
   "language": "python",
   "name": "python3"
  },
  "language_info": {
   "codemirror_mode": {
    "name": "ipython",
    "version": 3
   },
   "file_extension": ".py",
   "mimetype": "text/x-python",
   "name": "python",
   "nbconvert_exporter": "python",
   "pygments_lexer": "ipython3",
   "version": "3.11.8"
  }
 },
 "nbformat": 4,
 "nbformat_minor": 5
}
