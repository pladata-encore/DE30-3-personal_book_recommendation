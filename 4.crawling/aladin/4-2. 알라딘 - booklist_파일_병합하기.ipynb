{
  "nbformat": 4,
  "nbformat_minor": 0,
  "metadata": {
    "colab": {
      "provenance": []
    },
    "kernelspec": {
      "name": "python3",
      "display_name": "Python 3"
    },
    "language_info": {
      "name": "python"
    }
  },
  "cells": [
    {
      "cell_type": "markdown",
      "source": [
        "- 크롤링을 통해 얻은 정보들이 담긴 4개의 파일을 공통칼럼 기준으로 병합합니다."
      ],
      "metadata": {
        "id": "4oyxmWzwEsWt"
      }
    },
    {
      "cell_type": "code",
      "execution_count": null,
      "metadata": {
        "id": "rbZahXATEndG"
      },
      "outputs": [],
      "source": [
        "# 한글 깨짐 방지를 위해 인코딩을 변경합니다.\n",
        "\n",
        "# CSV 파일을 UTF-8로 읽음\n",
        "df = pd.read_csv('aladin_list.csv')\n",
        "\n",
        "# 변경된 인코딩으로 CSV 파일을 쓰기\n",
        "df.to_csv('aladin_list2.csv', index=False, encoding='utf-8-sig')\n",
        "\n",
        "\n",
        "# 'inner조인'을 통해 겹치지 않는 값은 누락시켜 병합했습니다.\n",
        "\n",
        "# 4개파일 병합을 위해 아래와 같은 방식을 3번 반복했습니다.\n",
        "\n",
        "# 공통칼럼은 item_id 혹은 isbn을 사용했습니다.\n",
        "\n",
        "file1_path = '1.csv'\n",
        "file2_path = '2.csv'\n",
        "df1 = pd.read_csv(file1_path)\n",
        "df2 = pd.read_csv(file2_path)\n",
        "df1['item_id'] = df1['item_id'].astype(str)\n",
        "\n",
        "# (inner 조인) 사용\n",
        "merged_df = pd.merge(df1, df2, on='item_id', how='inner')\n",
        "print(merged_df)\n",
        "output_file_path = 'step1.csv'\n",
        "merged_df.to_csv(output_file_path, encoding='utf-8-sig', index=False)"
      ]
    }
  ]
}
