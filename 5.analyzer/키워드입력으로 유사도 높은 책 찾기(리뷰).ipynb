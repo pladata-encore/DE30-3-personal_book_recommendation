{
 "cells": [
  {
   "cell_type": "markdown",
   "id": "8bc2f4bd-ddea-4dc0-9563-fe70efc2b5bc",
   "metadata": {},
   "source": [
    "# 키워드 입력해서 리뷰가 가장 비슷한 책 찾기"
   ]
  },
  {
   "cell_type": "markdown",
   "id": "0a0b2c2a-9ca4-4237-a1cd-21e1259a3a60",
   "metadata": {},
   "source": [
    "## 설치"
   ]
  },
  {
   "cell_type": "code",
   "execution_count": 33,
   "id": "df20acc5-0abe-496c-b596-0d5626dbac3e",
   "metadata": {},
   "outputs": [],
   "source": [
    "from sklearn.feature_extraction.text import TfidfVectorizer\n",
    "from sklearn.metrics.pairwise import cosine_similarity\n",
    "import numpy as np\n",
    "import matplotlib.pyplot as plt\n",
    "import seaborn as sns\n",
    "import pandas as pd\n"
   ]
  },
  {
   "cell_type": "markdown",
   "id": "f6eb12ef-f347-4c38-994c-beb314e3c250",
   "metadata": {},
   "source": [
    "## 폰트 설치"
   ]
  },
  {
   "cell_type": "code",
   "execution_count": 34,
   "id": "cc61de34-d646-4734-acc5-249b427c2003",
   "metadata": {},
   "outputs": [],
   "source": [
    "import matplotlib.font_manager as fm\n",
    "# 한글 폰트 설정\n",
    "all_fonts = fm.findSystemFonts(fontpaths=None, fontext=\"ttf\")\n",
    "\n",
    "# \"Nanum\"으로 시작하는 폰트 찾기\n",
    "nanum_fonts = [font for font in all_fonts if \"Nanum\" in font]\n",
    "\n",
    "# 폰트 설정\n",
    "if len(nanum_fonts) > 0:\n",
    "    font_name = fm.FontProperties(fname=nanum_fonts[1]).get_name()\n",
    "    plt.rcParams[\"font.family\"] = font_name\n",
    "else:\n",
    "    print(\"Nanum으로 시작하는 폰트가 설치되지 않았습니다.\")"
   ]
  },
  {
   "cell_type": "markdown",
   "id": "01d2fd30-69d2-41fb-a7ab-a87a85da7dc2",
   "metadata": {},
   "source": [
    "## 코사인 유사도 계산으로 키워드와 유사한 리뷰가 많은 Top3 찾기"
   ]
  },
  {
   "cell_type": "code",
   "execution_count": null,
   "id": "e88aced5-b0a7-487c-a48f-ee94e9bd4fca",
   "metadata": {},
   "outputs": [],
   "source": [
    "# 키워드 입력 받기\n",
    "keywords_input = input(\"원하는 리뷰 키워드를 입력하고 엔터를 눌러주세요(여러개 입력 시 ',' 으로 구분해주세요): \")\n",
    "keywords = keywords_input.split(',')\n",
    "\n",
    "#리뷰 데이터 로드\n",
    "data = pd.read_csv('all_reviews_filtered_utf8.csv')\n",
    "# sklearn의 TF-IDF 벡터라이저와 코사인 유사도를 활용하여 키워드와 리뷰 간의 유사성을 계산합니다.\n",
    "# 각 리뷰와 키워드의 TF-IDF 벡터를 계산하여 코사인 유사도를 계산합니다.\n",
    "\n",
    "# NaN 값을 빈 문자열로 대체\n",
    "data['comment'] = data['comment'].fillna(\"\")\n",
    "\n",
    "# 단어들을 하나의 문자열로 합침\n",
    "keywords_string = \" \".join(keywords)\n",
    "\n",
    "# 데이터프레임에 새로운 행 추가, 모든 컬럼에 대해 값을 설정\n",
    "data.loc[len(data)] = [None, None, None, None, keywords_string, None, None]\n",
    "\n",
    "# TF-IDF 벡터화 도구 초기화\n",
    "tfidf_vectorizer = TfidfVectorizer()\n",
    "\n",
    "# 리뷰 코멘트와 키워드를 TF-IDF 벡터로 변환\n",
    "tfidf_matrix = tfidf_vectorizer.fit_transform(data['comment'])\n",
    "\n",
    "# 마지막 벡터(결합된 키워드)와 모든 리뷰 벡터 간의 코사인 유사도 계산\n",
    "cosine_similarities = cosine_similarity(tfidf_matrix[-1], tfidf_matrix[:-1]).flatten()\n",
    "\n",
    "# 유사도 점수를 데이터프레임에 할당 (이전에 존재하지 않는 'similarity_score' 컬럼이 추가됩니다)\n",
    "data['similarity_score'] = np.append(cosine_similarities, 0)  # 마지막 행에는 0을 할당합니다.\n",
    "\n",
    "# 책 제목별로 그룹화하고 유사도 점수 합산 (마지막 행은 제외합니다.)\n",
    "similarity_scores_sum = data.iloc[:-1].groupby('title')['similarity_score'].sum()\n",
    "\n",
    "# 유사도 점수를 기준으로 책 정렬\n",
    "sorted_books_by_similarity = similarity_scores_sum.sort_values(ascending=False).head(3)\n",
    "\n",
    "# 시각화\n",
    "plt.figure(figsize=(10, 6))\n",
    "sns.barplot(x=sorted_books_by_similarity.values, y=sorted_books_by_similarity.index)\n",
    "plt.title('키워드와 유사도 높은 리뷰가 많은 책 Top3')\n",
    "plt.xlabel('전체 유사도 점수')\n",
    "plt.ylabel('제목')\n",
    "plt.show()"
   ]
  },
  {
   "cell_type": "markdown",
   "id": "01d1c1bb-0bb8-412b-9e32-3c5974346c99",
   "metadata": {},
   "source": [
    "## 각 책 당 유사한 리뷰 5개 추출"
   ]
  },
  {
   "cell_type": "code",
   "execution_count": 44,
   "id": "888dff37-6b53-4a85-91f6-23bda4d86ea4",
   "metadata": {},
   "outputs": [
    {
     "name": "stdout",
     "output_type": "stream",
     "text": [
      "나미야 잡화점의 기적 (양장)\n",
      "----------------\n",
      "1. 감동적이다\n",
      "2. 감동적이다\n",
      "3. 주변 모두에게 선물하고 추천하고 싶은 책따뜻하고 재미있고 감동적이다\n",
      "4. 재미있다 그리고 감동적이다 히가시노 게이고의 기존 추리와는 완전 다른 형식이다훈훈한 이야기로 꽉 차 있다 선물용으로 좋다\n",
      "5. 최고다 아주 유쾌하고 감동적이다 나를 다시 독서하도록 이끌어준 아주 고마운 책이고 꼭 나중에 다시 읽어보고 싶다 많은 사람들에게 추천해주고싶은 책 남녀노소 구별없이 모든 이들이 좋아할 것 같다 그리고 이 작가의 다른 책들을 궁금하게만들었다\n",
      "\n",
      "\n",
      "마션\n",
      "--\n",
      "1. 감동적이다\n",
      "2. 완전 감동적이다\n",
      "3. 감동적이다 영화도 책도\n",
      "4. 영화만큼 감동적이다\n",
      "5. 포기하지 않은 모습에 감동적이다\n",
      "\n",
      "\n",
      "오베라는 남자\n",
      "-------\n",
      "1. 감동적이다\n",
      "2. 감동적이다\n",
      "3. 따뜻한 책이고 감동적이다\n",
      "4. 재미있고 따뜻하며 감동적이다\n",
      "5. 재미있고 따뜻하며 감동적이다\n",
      "\n",
      "\n"
     ]
    }
   ],
   "source": [
    "# 상위 3권의 책 제목을 추출\n",
    "top_3_books_titles = sorted_books_by_similarity.index[:3]\n",
    "\n",
    "# 각 책별로 유사도 점수가 높은 상위 10개의 리뷰를 선택\n",
    "top_reviews_per_book_expanded = data.sort_values(by='similarity_score', ascending=False).groupby('title').head(10)\n",
    "\n",
    "# 상위 3권의 책에 대한 유사한 리뷰를 선택\n",
    "top_reviews_for_top_books_expanded = top_reviews_per_book_expanded[top_reviews_per_book_expanded['title'].isin(top_3_books_titles)]\n",
    "\n",
    "# 결과 출력을 위해 책 제목별로 리뷰를 그룹화\n",
    "grouped_reviews_expanded = top_reviews_for_top_books_expanded.groupby('title')['comment'].apply(list)\n",
    "\n",
    "# 각 리뷰 코멘트를 쉼표(,) 기준으로 한 줄씩 출력하되, 각 타이틀당 최대 10개의 리뷰만 출력\n",
    "for title, comments in grouped_reviews_expanded.items():\n",
    "    print(f'{title}\\n{\"-\" * len(title)}')\n",
    "    \n",
    "    # 쉼표로 구분된 리뷰를 분리하고, 최대 5개까지만 가져옵니다.\n",
    "    comments_list = comments[:5]\n",
    "    \n",
    "    # 각 리뷰 앞에 순서 번호를 붙여서 출력합니다.\n",
    "    for idx, comment in enumerate(comments_list, 1):\n",
    "        print(f'{idx}. {comment}')\n",
    "    \n",
    "    print(\"\\n\")  # 제목별로 구분을 위해 추가된 빈 줄"
   ]
  },
  {
   "cell_type": "code",
   "execution_count": 48,
   "id": "5c693a56-3f00-49f6-9e90-c654f24fa51a",
   "metadata": {},
   "outputs": [
    {
     "data": {
      "image/png": "[encoded data removed]",
      "text/plain": [
       "<Figure size 1000x600 with 1 Axes>"
      ]
     },
     "metadata": {},
     "output_type": "display_data"
    }
   ],
   "source": [
    "# 유사도 점수의 75번째 백분위수를 기준으로 설정 (유사도가 높은 리뷰를 식별하기 위한 기준)\n",
    "threshold = np.percentile(data['similarity_score'], 75)\n",
    "\n",
    "# 유사도가 높은 리뷰들만 필터링\n",
    "high_similarity_reviews = data[data['similarity_score'] > threshold]\n",
    "\n",
    "# 각 책별로 유사도가 높은 리뷰의 개수 계산\n",
    "high_similarity_counts = high_similarity_reviews.groupby('title').size()\n",
    "\n",
    "# 각 책별 전체 리뷰 개수 계산 (마지막에 추가된 키워드 행은 제외)\n",
    "total_review_counts = data.iloc[:-1].groupby('title').size()\n",
    "\n",
    "# 유사도가 높은 리뷰의 비율 계산\n",
    "similarity_ratio = high_similarity_counts / total_review_counts\n",
    "\n",
    "# Top 3 책 필터링\n",
    "top_3_books = sorted_books_by_similarity.index[:3]\n",
    "\n",
    "# Top 3 책의 유사도 비율 선택\n",
    "top_3_similarity_ratio = similarity_ratio[top_3_books]\n",
    "\n",
    "# 시각화\n",
    "plt.figure(figsize=(10, 6))\n",
    "sns.barplot(x=top_3_similarity_ratio.values, y=top_3_similarity_ratio.index)\n",
    "plt.title('입력한 키워드와 유사도가 높은 리뷰가 그 책의 전체 리뷰에서 차지하는 비율')\n",
    "plt.xlabel('유사도 높은 리뷰의 비율')\n",
    "plt.ylabel('제목')\n",
    "plt.show()"
   ]
  },
  {
   "cell_type": "code",
   "execution_count": null,
   "id": "bc70ae58-369e-4be4-bba1-3f987f5a0d9f",
   "metadata": {},
   "outputs": [],
   "source": []
  }
 ],
 "metadata": {
  "kernelspec": {
   "display_name": "Python 3 (ipykernel)",
   "language": "python",
   "name": "python3"
  },
  "language_info": {
   "codemirror_mode": {
    "name": "ipython",
    "version": 3
   },
   "file_extension": ".py",
   "mimetype": "text/x-python",
   "name": "python",
   "nbconvert_exporter": "python",
   "pygments_lexer": "ipython3",
   "version": "3.11.8"
  }
 },
 "nbformat": 4,
 "nbformat_minor": 5
}
