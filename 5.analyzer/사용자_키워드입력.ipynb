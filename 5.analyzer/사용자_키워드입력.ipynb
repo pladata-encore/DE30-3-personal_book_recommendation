{
  "nbformat": 4,
  "nbformat_minor": 0,
  "metadata": {
    "colab": {
      "provenance": [],
      "toc_visible": true
    },
    "kernelspec": {
      "name": "python3",
      "display_name": "Python 3"
    },
    "language_info": {
      "name": "python"
    }
  },
  "cells": [
    {
      "cell_type": "markdown",
      "source": [
        "1. 사용자가 키워드를 검색할 컬럼을 선택합니다."
      ],
      "metadata": {
        "id": "eGJCx_GGJ7pC"
      }
    },
    {
      "cell_type": "markdown",
      "source": [
        "![1.png](data:image/png;base64,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)"
      ],
      "metadata": {
        "id": "9m26eBM3S1EC"
      }
    },
    {
      "cell_type": "markdown",
      "source": [
        "2. 컬럼 선택 후 원하는 키워드를 입력합니다."
      ],
      "metadata": {
        "id": "yWrsPEQFJeX1"
      }
    },
    {
      "cell_type": "markdown",
      "source": [
        "![1.png](data:image/png;base64,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)"
      ],
      "metadata": {
        "id": "Uuyjzeh_JTkH"
      }
    },
    {
      "cell_type": "markdown",
      "source": [
        "3. 해당 키워드를 가장 많이 보유한 상위 5권의 책 제목이 출력됩니다."
      ],
      "metadata": {
        "id": "w6EoWumBJ_tV"
      }
    },
    {
      "cell_type": "markdown",
      "source": [
        "![3.png](data:image/png;base64,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)"
      ],
      "metadata": {
        "id": "UziQTiTmKAAw"
      }
    },
    {
      "cell_type": "code",
      "execution_count": null,
      "metadata": {
        "id": "WdDsRCcPJSe0"
      },
      "outputs": [],
      "source": [
        "\n",
        "def find_book(file_path):\n",
        "    import csv\n",
        "    from collections import Counter\n",
        "    import pandas as pd\n",
        "    # 사용자가 선택할 수 있는 컬럼 목록 및 한글 표시\n",
        "    column_choices = {\n",
        "        '책소개': 'introduction',\n",
        "        '작가소개': 'author_info',\n",
        "        '서평': 'book_rev'\n",
        "    }\n",
        "\n",
        "    # 사용자에게 선택지 제시\n",
        "    print(\"컬럼을 선택하세요:\")\n",
        "    for idx, (kor_name, eng_name) in enumerate(column_choices.items(), 1):\n",
        "        print(f\"{idx}. {kor_name}\")\n",
        "\n",
        "    # 사용자 입력 받기\n",
        "    choice = int(input(\"선택 (1/2/3): \"))\n",
        "    selected_column = column_choices[list(column_choices.keys())[choice - 1]]\n",
        "\n",
        "    # 키워드 입력\n",
        "    keyword = input(\"키워드를 입력하세요: \")\n",
        "    # CSV 파일 열기\n",
        "    with open(file_path, newline='', encoding='utf-8') as csvfile:\n",
        "        reader = csv.DictReader(csvfile)\n",
        "        # 선택된 컬럼에서 키워드를 가장 많이 포함하는 값을 찾기 위해 Counter 사용\n",
        "        keyword_counts = Counter()\n",
        "        # 행마다 선택된 컬럼의 값을 확인하여 키워드가 포함되어 있는지 확인\n",
        "        for row in reader:\n",
        "            selected_text = row[selected_column]\n",
        "            if keyword.lower() in selected_text.lower():\n",
        "                isbn = row['isbn']\n",
        "                keyword_counts[isbn] += 1\n",
        "\n",
        "    # 가장 많은 키워드를 가진 상위 5개의 ISBN 찾기\n",
        "    top_5_isbn = [isbn for isbn, _ in keyword_counts.most_common(5)]\n",
        "    # CSV 파일 다시 열기\n",
        "    with open(file_path, newline='', encoding='utf-8') as csvfile:\n",
        "        reader = csv.DictReader(csvfile)\n",
        "        headers = reader.fieldnames\n",
        "        # 결과를 저장할 빈 데이터프레임 생성\n",
        "        result_rows = pd.DataFrame(columns=headers, dtype=str)\n",
        "        # 행마다 top_5_isbn에 해당하는 행을 찾아서 결과 데이터프레임에 추가\n",
        "        for row in reader:\n",
        "            if row['isbn'] in top_5_isbn:\n",
        "                result_rows = pd.concat([result_rows, pd.DataFrame([row], columns=headers)], ignore_index=True)\n",
        "    # 결과 데이터프레임에서 isbn과 title 열 선택 및 중복 제거\n",
        "    result_subset = result_rows[['isbn', 'title']]\n",
        "    result_unique = result_subset.drop_duplicates(subset=['isbn'])\n",
        "    result_unique = result_unique['title']\n",
        "    return result_unique\n",
        "\n",
        "# 함수 실행\n",
        "result = find_book('merged_df.csv')\n",
        "print(result)\n"
      ]
    }
  ]
}